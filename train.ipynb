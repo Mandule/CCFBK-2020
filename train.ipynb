{
 "cells": [
  {
   "cell_type": "code",
   "execution_count": null,
   "metadata": {},
   "outputs": [],
   "source": [
    "import os\n",
    "import numpy as np\n",
    "import pandas as pd\n",
    "from tqdm import tqdm\n",
    "import tensorflow as tf\n",
    "import tensorflow.keras as keras\n",
    "import tensorflow.keras.backend as K\n",
    "import tensorflow.keras.layers as layers\n",
    "import tensorflow.keras.models as models\n",
    "from tensorflow.keras.utils import multi_gpu_model\n",
    "from sklearn.metrics import f1_score\n",
    "from sklearn.model_selection import GroupKFold\n",
    "from transformers import TFElectraModel, ElectraTokenizer\n",
    "os.environ[\"CUDA_VISIBLE_DEVICES\"] = '0,1,2,3'\n",
    "print(tf.__version__)\n",
    "tf.test.is_gpu_available()"
   ]
  },
  {
   "cell_type": "code",
   "execution_count": 13,
   "metadata": {},
   "outputs": [],
   "source": [
    "df_train = pd.read_csv('data/train.csv').sort_values(['query_id', 'reply_id'])\n",
    "df_test = pd.read_csv('data/test.csv').sort_values(['query_id', 'reply_id'])"
   ]
  },
  {
   "cell_type": "code",
   "execution_count": 14,
   "metadata": {},
   "outputs": [
    {
     "data": {
      "text/html": [
       "<div>\n",
       "<style scoped>\n",
       "    .dataframe tbody tr th:only-of-type {\n",
       "        vertical-align: middle;\n",
       "    }\n",
       "\n",
       "    .dataframe tbody tr th {\n",
       "        vertical-align: top;\n",
       "    }\n",
       "\n",
       "    .dataframe thead th {\n",
       "        text-align: right;\n",
       "    }\n",
       "</style>\n",
       "<table border=\"1\" class=\"dataframe\">\n",
       "  <thead>\n",
       "    <tr style=\"text-align: right;\">\n",
       "      <th></th>\n",
       "      <th>query_id</th>\n",
       "      <th>reply_id</th>\n",
       "      <th>query</th>\n",
       "      <th>reply</th>\n",
       "      <th>label</th>\n",
       "    </tr>\n",
       "  </thead>\n",
       "  <tbody>\n",
       "    <tr>\n",
       "      <th>0</th>\n",
       "      <td>0</td>\n",
       "      <td>0</td>\n",
       "      <td>采荷一小是分校吧</td>\n",
       "      <td>杭州市采荷第一小学钱江苑校区，杭州市钱江新城实验学校。</td>\n",
       "      <td>1</td>\n",
       "    </tr>\n",
       "    <tr>\n",
       "      <th>1</th>\n",
       "      <td>0</td>\n",
       "      <td>1</td>\n",
       "      <td>采荷一小是分校吧</td>\n",
       "      <td>是的</td>\n",
       "      <td>0</td>\n",
       "    </tr>\n",
       "    <tr>\n",
       "      <th>2</th>\n",
       "      <td>0</td>\n",
       "      <td>2</td>\n",
       "      <td>采荷一小是分校吧</td>\n",
       "      <td>这是5楼</td>\n",
       "      <td>0</td>\n",
       "    </tr>\n",
       "    <tr>\n",
       "      <th>3</th>\n",
       "      <td>1</td>\n",
       "      <td>0</td>\n",
       "      <td>毛坯吗？</td>\n",
       "      <td>因为公积金贷款贷的少</td>\n",
       "      <td>0</td>\n",
       "    </tr>\n",
       "    <tr>\n",
       "      <th>4</th>\n",
       "      <td>1</td>\n",
       "      <td>1</td>\n",
       "      <td>毛坯吗？</td>\n",
       "      <td>是呢</td>\n",
       "      <td>0</td>\n",
       "    </tr>\n",
       "  </tbody>\n",
       "</table>\n",
       "</div>"
      ],
      "text/plain": [
       "   query_id  reply_id     query                        reply  label\n",
       "0         0         0  采荷一小是分校吧  杭州市采荷第一小学钱江苑校区，杭州市钱江新城实验学校。      1\n",
       "1         0         1  采荷一小是分校吧                           是的      0\n",
       "2         0         2  采荷一小是分校吧                         这是5楼      0\n",
       "3         1         0      毛坯吗？                   因为公积金贷款贷的少      0\n",
       "4         1         1      毛坯吗？                           是呢      0"
      ]
     },
     "execution_count": 14,
     "metadata": {},
     "output_type": "execute_result"
    }
   ],
   "source": [
    "df_train.head()"
   ]
  },
  {
   "cell_type": "code",
   "execution_count": 15,
   "metadata": {},
   "outputs": [],
   "source": [
    "MAX_SEQUENCE_LENGTH = 100\n",
    "MODEL_PATH = 'model/electra_180g_large_tf/'"
   ]
  },
  {
   "cell_type": "code",
   "execution_count": 16,
   "metadata": {},
   "outputs": [],
   "source": [
    "tokenizer = ElectraTokenizer.from_pretrained(MODEL_PATH)"
   ]
  },
  {
   "cell_type": "code",
   "execution_count": 17,
   "metadata": {},
   "outputs": [],
   "source": [
    "inputs_train = tokenizer(df_train['query'].values.tolist(),\n",
    "                         df_train['reply'].values.tolist(),\n",
    "                         max_length=MAX_SEQUENCE_LENGTH,\n",
    "                         truncation=True,\n",
    "                         padding=True,\n",
    "                         return_tensors='np')\n",
    "inputs_test = tokenizer(df_test['query'].values.tolist(),\n",
    "                        df_test['reply'].values.tolist(),\n",
    "                        max_length=MAX_SEQUENCE_LENGTH,\n",
    "                        truncation=True,\n",
    "                        padding=True,\n",
    "                        return_tensors='np')\n",
    "labels_train = df_train.label.values"
   ]
  },
  {
   "cell_type": "code",
   "execution_count": 18,
   "metadata": {},
   "outputs": [],
   "source": [
    "def create_model():\n",
    "    input_ids = layers.Input((MAX_SEQUENCE_LENGTH,), dtype=tf.int32)\n",
    "    token_type_ids = layers.Input((MAX_SEQUENCE_LENGTH,), dtype=tf.int32)\n",
    "    attention_mask = layers.Input((MAX_SEQUENCE_LENGTH,), dtype=tf.int32)\n",
    "    \n",
    "    base_model = TFElectraModel.from_pretrained(MODEL_PATH)\n",
    "    \n",
    "    h = base_model({'input_ids':input_ids,\n",
    "                    'token_type_ids':token_type_ids,\n",
    "                    'attention_mask':attention_mask})[0]\n",
    "    h0 = h[:,0]\n",
    "    h1 = layers.GlobalAveragePooling1D()(h)\n",
    "    h2 = layers.GlobalMaxPool1D()(h)\n",
    "    h = layers.concatenate([h0,h1,h2])\n",
    "    h = layers.Dense(1, activation='sigmoid')(h)\n",
    "    \n",
    "    model = models.Model(inputs=[input_ids,token_type_ids,attention_mask], outputs=h)\n",
    "    return model"
   ]
  },
  {
   "cell_type": "code",
   "execution_count": 19,
   "metadata": {},
   "outputs": [],
   "source": [
    "gkf = GroupKFold(n_splits=5)\n",
    "oof = np.zeros_like(df_train.label)\n",
    "sub = np.zeros_like(df_test.label)"
   ]
  },
  {
   "cell_type": "code",
   "execution_count": null,
   "metadata": {},
   "outputs": [],
   "source": [
    "for i, (trn_idx, val_idx) in enumerate(gkf.split(df_train, groups=df_train.query_id)):\n",
    "    inputs_trn = [x[trn_idx] for x in inputs_train.values()]\n",
    "    inputs_val = [x[val_idx] for x in inputs_train.values()]\n",
    "    inputs_sub = inputs_test.values()\n",
    "    labels_trn = labels_train[trn_idx]\n",
    "    labels_val = labels_train[val_idx]\n",
    "    \n",
    "    K.clear_session()\n",
    "    model = create_model()\n",
    "    model = multi_gpu_model(model, gpus=4)\n",
    "    model.compile(loss='binary_crossentropy',\n",
    "                  optimizer=keras.optimizers.Adam(learning_rate=2e-5),\n",
    "                  metrics=[keras.metrics.AUC()])\n",
    "    model.fit(inputs_trn, labels_trn,\n",
    "              validation_data = (inputs_val, labels_val),\n",
    "              epochs=3,\n",
    "              batch_size=64)\n",
    "    \n",
    "    oof[val_idx] = model.predict(inputs_val, batch_size=512)\n",
    "    sub += model.predict(inputs_sub, batch_size=512) / gkf.n_splits"
   ]
  },
  {
   "cell_type": "code",
   "execution_count": null,
   "metadata": {},
   "outputs": [],
   "source": []
  }
 ],
 "metadata": {
  "kernelspec": {
   "display_name": "conda_tensorflow2_py3",
   "language": "python",
   "name": "conda_tensorflow2_py3"
  },
  "language_info": {
   "codemirror_mode": {
    "name": "ipython",
    "version": 3
   },
   "file_extension": ".py",
   "mimetype": "text/x-python",
   "name": "python",
   "nbconvert_exporter": "python",
   "pygments_lexer": "ipython3",
   "version": "3.6.5"
  }
 },
 "nbformat": 4,
 "nbformat_minor": 4
}
