{
 "cells": [
  {
   "cell_type": "code",
   "execution_count": null,
   "metadata": {},
   "outputs": [],
   "source": [
    "import sys\n",
    "import warnings\n",
    "warnings.simplefilter('ignore')\n",
    "import numpy as np\n",
    "import pandas as pd\n",
    "from simpletransformers.classification import ClassificationModel"
   ]
  },
  {
   "cell_type": "code",
   "execution_count": null,
   "metadata": {},
   "outputs": [],
   "source": [
    "fold = int(sys.argv[1])"
   ]
  },
  {
   "cell_type": "code",
   "execution_count": null,
   "metadata": {},
   "outputs": [],
   "source": [
    "train_query = pd.read_csv('raw_data/train/train.query.tsv', sep='\\t', header=None)\n",
    "train_query.columns = ['qid', 'text_a']\n",
    "train_reply = pd.read_csv('raw_data/train/train.reply.tsv', sep='\\t', header=None)\n",
    "train_reply.columns = ['qid', 'rid', 'text_b', 'labels']\n",
    "train = pd.merge(train_reply, train_query, on='qid', how='left')"
   ]
  },
  {
   "cell_type": "code",
   "execution_count": null,
   "metadata": {},
   "outputs": [],
   "source": [
    "df = train[['text_a', 'text_b', 'labels']]\n",
    "df = df.sample(frac=1, random_state=1029)\n",
    "train_df = df[df.index % 10 != fold]\n",
    "eval_df = df[df.index % 10 == fold]\n",
    "print(train_df.shape, eval_df.shape)"
   ]
  },
  {
   "cell_type": "code",
   "execution_count": null,
   "metadata": {},
   "outputs": [],
   "source": [
    "train_args = {\n",
    "    'reprocess_input_data': True,\n",
    "    'overwrite_output_dir': True,\n",
    "    'num_train_epochs': 3,\n",
    "    'fp16': False\n",
    "}"
   ]
  },
  {
   "cell_type": "code",
   "execution_count": null,
   "metadata": {},
   "outputs": [],
   "source": [
    "model = ClassificationModel('bert',\n",
    "                            'hfl/chinese-roberta-wwm-ext',\n",
    "                            num_labels=2,\n",
    "                            use_cuda=True,\n",
    "                            cuda_device=0,\n",
    "                            args=train_args)"
   ]
  },
  {
   "cell_type": "code",
   "execution_count": null,
   "metadata": {},
   "outputs": [],
   "source": [
    "model.train_model(train_df, eval_df=eval_df)"
   ]
  },
  {
   "cell_type": "code",
   "execution_count": null,
   "metadata": {},
   "outputs": [],
   "source": [
    "test_query = pd.read_csv('raw_data/test/test.query.tsv', sep='\\t', header=None, encoding=\"gbk\")\n",
    "test_query.columns = ['qid', 'text_a']\n",
    "test_reply = pd.read_csv('raw_data/test/test.reply.tsv', sep='\\t', header=None, encoding=\"gbk\")\n",
    "test_reply.columns = ['qid', 'rid', 'text_b']\n",
    "test = pd.merge(test_reply, test_query, on='qid', how='left')\n",
    "df_test = test[['text_a', 'text_b']]"
   ]
  },
  {
   "cell_type": "code",
   "execution_count": null,
   "metadata": {},
   "outputs": [],
   "source": [
    "submit_sample = pd.read_csv('raw_data/sample_submission.tsv', sep='\\t', header=None)\n",
    "submit_sample.columns =['qid', 'rid', 'label']"
   ]
  },
  {
   "cell_type": "code",
   "execution_count": null,
   "metadata": {},
   "outputs": [],
   "source": [
    "data = []\n",
    "for i, row in df_test.iterrows():\n",
    "    data.append([row['text_a'], row['text_b']])"
   ]
  },
  {
   "cell_type": "code",
   "execution_count": null,
   "metadata": {},
   "outputs": [],
   "source": [
    "predictions, raw_outputs = model.predict(data)\n",
    "submit_sample['label'] = predictions"
   ]
  },
  {
   "cell_type": "code",
   "execution_count": null,
   "metadata": {},
   "outputs": [],
   "source": [
    "np.save(f'prob_{fold}', raw_outputs)\n",
    "submit_sample.to_csv(f'sub_{fold}.tsv', sep='\\t', index=False, header=False)"
   ]
  }
 ],
 "metadata": {
  "kernelspec": {
   "display_name": "conda_pytorch_py3",
   "language": "python",
   "name": "conda_pytorch_py3"
  },
  "language_info": {
   "codemirror_mode": {
    "name": "ipython",
    "version": 3
   },
   "file_extension": ".py",
   "mimetype": "text/x-python",
   "name": "python",
   "nbconvert_exporter": "python",
   "pygments_lexer": "ipython3",
   "version": "3.6.5"
  }
 },
 "nbformat": 4,
 "nbformat_minor": 4
}
