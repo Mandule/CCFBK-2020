{
 "cells": [
  {
   "cell_type": "code",
   "execution_count": 1,
   "metadata": {},
   "outputs": [],
   "source": [
    "# -*- coding=utf-8\n",
    "# appid 已在配置中移除,请在参数 Bucket 中带上 appid。Bucket 由 BucketName-APPID 组成\n",
    "# 1. 设置用户配置, 包括 secretId，secretKey 以及 Region\n",
    "from qcloud_cos import CosConfig\n",
    "from qcloud_cos import CosS3Client\n",
    "import sys\n",
    "import os\n",
    "import logging\n",
    "\n",
    "logging.basicConfig(level=logging.WARNING, stream=sys.stdout)\n",
    "\n",
    "secret_id = 'AKIDay82g3M1aMr65ouE0kQq66qJDrEKf98M'      # 替换为用户的 secretId\n",
    "secret_key = '5zcy5xwhB68HAm7ByTBcssb3Hn33lCNG'      # 替换为用户的 secretKey\n",
    "region = 'ap-guangzhou'     # 替换为用户的 Region\n",
    "token = None                # 使用临时密钥需要传入 Token，默认为空，可不填\n",
    "scheme = 'https'            # 指定使用 http/https 协议来访问 COS，默认为 https，可不填\n",
    "config = CosConfig(Region=region, SecretId=secret_id, SecretKey=secret_key, Token=token, Scheme=scheme)\n",
    "# 2. 获取客户端对象\n",
    "client = CosS3Client(config)\n",
    "# 参照下文的描述。或者参照 Demo 程序，详见 https://github.com/tencentyun/cos-python-sdk-v5/blob/master/qcloud_cos/demo.py\n",
    "bucket = 'guangzhou-1257858159'"
   ]
  },
  {
   "cell_type": "code",
   "execution_count": 2,
   "metadata": {},
   "outputs": [],
   "source": [
    "# 上传对象\n",
    "def upload(path):\n",
    "    response = client.upload_file(\n",
    "    Bucket=bucket,\n",
    "    LocalFilePath=path,\n",
    "    Key=path,\n",
    "    PartSize=10,\n",
    "    MAXThread=10,\n",
    "    EnableMD5=False)\n",
    "# 下载对象\n",
    "def download(path):\n",
    "    response = client.get_object(\n",
    "        Bucket=bucket,\n",
    "        Key=path)\n",
    "    response['Body'].get_stream_to_file(path)"
   ]
  },
  {
   "cell_type": "code",
   "execution_count": 3,
   "metadata": {},
   "outputs": [],
   "source": [
    "download('roberta_wwm_large_tf.zip')"
   ]
  },
  {
   "cell_type": "code",
   "execution_count": 4,
   "metadata": {},
   "outputs": [],
   "source": [
    "download('electra_180g_large_tf.zip')"
   ]
  }
 ],
 "metadata": {
  "kernelspec": {
   "display_name": "conda_pytorch_py3",
   "language": "python",
   "name": "conda_pytorch_py3"
  },
  "language_info": {
   "codemirror_mode": {
    "name": "ipython",
    "version": 3
   },
   "file_extension": ".py",
   "mimetype": "text/x-python",
   "name": "python",
   "nbconvert_exporter": "python",
   "pygments_lexer": "ipython3",
   "version": "3.6.5"
  }
 },
 "nbformat": 4,
 "nbformat_minor": 4
}
